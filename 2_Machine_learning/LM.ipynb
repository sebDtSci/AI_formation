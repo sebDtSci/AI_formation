{
  "nbformat": 4,
  "nbformat_minor": 0,
  "metadata": {
    "colab": {
      "provenance": []
    },
    "kernelspec": {
      "name": "python3",
      "display_name": "Python 3"
    },
    "language_info": {
      "name": "python"
    }
  },
  "cells": [
    {
      "cell_type": "markdown",
      "source": [
        "# Regression linéaire"
      ],
      "metadata": {
        "id": "Ijr3v6fN7T-Y"
      }
    },
    {
      "cell_type": "markdown",
      "source": [
        "$$ \\hat{y} = mx + b $$\n",
        "\n",
        "### fonction coût : ici MSE\n",
        "$$J(m, b) = \\frac{1}{N} \\sum_{i=1}^N (y_i - (mx_i + b))^2$$\n",
        "ou:\n",
        "$$J(m, b) = \\frac{1}{N} \\sum_{i=1}^N (y_i - \\hat{y}_i)^2$$\n",
        "\n",
        "L'optimisation consiste à ajuster $ m $ et $ b $ pour minimiser $ J(m, b) $, généralement à l'aide de méthodes comme la descente de gradient.\n",
        "\n",
        "### l’optimisation:\n",
        "\n",
        "### Étapes de la descente de gradient\n",
        "\n",
        "1. **Initialisation des paramètres :**\n",
        "   - Choisir des valeurs initiales pour $ m $ et $ b $ (souvent 0 ou des petites valeurs aléatoires).\n",
        "\n",
        "2. **Calcul du gradient :**\n",
        "   - Pour $ m $ :\n",
        "\n",
        "     $$\n",
        "     \\frac{\\partial J}{\\partial m} = -\\frac{2}{N} \\sum_{i=1}^N x_i \\cdot (y_i - \\hat{y}_i)\n",
        "     $$\n",
        "\n",
        "   - Pour $ b $ :\n",
        "\n",
        "     $$\n",
        "     \\frac{\\partial J}{\\partial b} = -\\frac{2}{N} \\sum_{i=1}^N (y_i - \\hat{y}_i)\n",
        "     $$\n",
        "\n",
        "3. **Mise à jour des paramètres :**\n",
        "   - $m$ :\n",
        "\n",
        "     $$\n",
        "     m := m - \\alpha \\cdot \\frac{\\partial J}{\\partial m}\n",
        "     $$\n",
        "   - $ b $ :\n",
        "\n",
        "     $$\n",
        "     b := b - \\alpha \\cdot \\frac{\\partial J}{\\partial b}\n",
        "     $$\n",
        "\n",
        "   - Où $\\alpha $ est le taux d'apprentissage (learning rate).\n",
        "\n",
        "4. **Répéter les étapes 2 et 3 :**\n",
        "   - Répéter jusqu'à ce que les gradients soient proches de zéro ou que le nombre d'itérations fixé soit atteint.\n"
      ],
      "metadata": {
        "id": "9294hpZu7xR8"
      }
    },
    {
      "cell_type": "code",
      "execution_count": null,
      "metadata": {
        "id": "N1_KvZeO7Ptg"
      },
      "outputs": [],
      "source": [
        "import numpy as np\n",
        "import matplotlib.pyplot as plt"
      ]
    },
    {
      "cell_type": "markdown",
      "source": [
        "pourquoi np.array([1,2,3]) et pas juste [1,2,3] ??\n",
        "\n",
        "---\n",
        "Avec un numpy array, les opérations s’appliquent à chaque élément sans nécessiter de boucles explicites.\n",
        "\n",
        "\t•\tLes numpy arrays sont beaucoup plus rapides que les listes Python pour les calculs numériques.\n",
        "\t•\tCela est dû à leur implémentation en C, qui permet des opérations vectorisées (traitement en bloc)."
      ],
      "metadata": {
        "id": "7oSUsBwM8CC4"
      }
    },
    {
      "cell_type": "code",
      "source": [
        "liste = [1, 2, 3]\n",
        "result = [x * 2 for x in liste]\n",
        "print(result)"
      ],
      "metadata": {
        "colab": {
          "base_uri": "https://localhost:8080/"
        },
        "id": "jU1cKZQ88eeB",
        "outputId": "b4fe8a02-4e74-4da4-c7ae-b4f87ca8119d"
      },
      "execution_count": null,
      "outputs": [
        {
          "output_type": "stream",
          "name": "stdout",
          "text": [
            "[2, 4, 6]\n"
          ]
        }
      ]
    },
    {
      "cell_type": "code",
      "source": [
        "import numpy as np\n",
        "array = np.array([1, 2, 3])\n",
        "result = array * 2\n",
        "print(result)"
      ],
      "metadata": {
        "colab": {
          "base_uri": "https://localhost:8080/"
        },
        "id": "QS9DvUJD8g_f",
        "outputId": "984b29d3-9fdd-47ea-ad9a-fb111ca287da"
      },
      "execution_count": null,
      "outputs": [
        {
          "output_type": "stream",
          "name": "stdout",
          "text": [
            "[2 4 6]\n"
          ]
        }
      ]
    },
    {
      "cell_type": "code",
      "source": [
        "x = np.array([1, 2, 3, 4, 5])\n",
        "y = np.array([1.8, 3.4, 3.0, 4.8, 6.2])\n",
        "\n",
        "# paramètres :\n",
        "m, b = 0.0, 0.0\n",
        "\n",
        "# hyper-paramètres : (bien faire la diff !!!!)\n",
        "lr = 0.01\n",
        "epochs = 1_000\n",
        "\n",
        "for _ in range(epochs):\n",
        "  # ma fonction:\n",
        "  y_pred = m*x+ b\n",
        "\n",
        "  # la loss : (plusieurs existe, à adapter à la problématique !!!)\n",
        "  rmse = np.sqrt((1 / len(x)) * np.sum((y - y_pred) ** 2))\n",
        "\n",
        "  # desc gradients\n",
        "  m_grad = -(2 / len(x)) * np.sum(x * (y - y_pred))\n",
        "  b_grad = -(2 / len(x)) * np.sum(y - y_pred)\n",
        "\n",
        "  # la fameuse maj des paramètres\n",
        "  m -= lr * m_grad\n",
        "  b -= lr * b_grad\n",
        "\n",
        "  if _ % 100 == 0:\n",
        "        print(f\"Epoch {_}: RMSE = {rmse}, m = {m:.4f}, b = {b:.4f}\")\n",
        "\n",
        "print(f\"\\nModèle final : RMSE = {rmse:.4f}, m = {m:.4f}, b = {b:.4f}\")\n"
      ],
      "metadata": {
        "colab": {
          "base_uri": "https://localhost:8080/"
        },
        "id": "aioLIu0E76n6",
        "outputId": "6ca93d59-51bc-4b71-8b62-7bd4eccca7ca"
      },
      "execution_count": null,
      "outputs": [
        {
          "output_type": "stream",
          "name": "stdout",
          "text": [
            "Epoch 0: RMSE = 4.129891039724898, m = 0.2712, b = 0.0768\n",
            "Epoch 100: RMSE = 0.4993368797897253, m = 1.1109, b = 0.4518\n",
            "Epoch 200: RMSE = 0.48951599974038923, m = 1.0848, b = 0.5461\n",
            "Epoch 300: RMSE = 0.4844510677279661, m = 1.0662, b = 0.6133\n",
            "Epoch 400: RMSE = 0.48185785762488714, m = 1.0529, b = 0.6612\n",
            "Epoch 500: RMSE = 0.4805352317844212, m = 1.0435, b = 0.6953\n",
            "Epoch 600: RMSE = 0.4798619848108564, m = 1.0367, b = 0.7196\n",
            "Epoch 700: RMSE = 0.4795196352998384, m = 1.0319, b = 0.7370\n",
            "Epoch 800: RMSE = 0.4793456392782335, m = 1.0285, b = 0.7493\n",
            "Epoch 900: RMSE = 0.4792572307852566, m = 1.0261, b = 0.7581\n",
            "\n",
            "Modèle final : RMSE = 0.4792, m = 1.0243, b = 0.7644\n"
          ]
        }
      ]
    },
    {
      "cell_type": "code",
      "source": [
        "plt.scatter(x, y, label='Données réelles')\n",
        "plt.plot(x, y_pred, color='red', label='Modèle')\n",
        "plt.xlabel('x')\n",
        "plt.ylabel('y')\n",
        "plt.legend()\n",
        "plt.show()"
      ],
      "metadata": {
        "colab": {
          "base_uri": "https://localhost:8080/",
          "height": 449
        },
        "id": "idym5LCJ-3au",
        "outputId": "2ea08e3b-a9f5-47ca-fad0-36c136dfb944"
      },
      "execution_count": null,
      "outputs": [
        {
          "output_type": "display_data",
          "data": {
            "text/plain": [
              "<Figure size 640x480 with 1 Axes>"
            ],
            "image/png": "[encoded data removed]"
          },
          "metadata": {}
        }
      ]
    },
    {
      "cell_type": "code",
      "source": [
        "x = np.array([1, 2, 3, 4, 5])\n",
        "y = np.array([1.8, 3.4, 3.0, 4.8, 6.2])\n",
        "\n",
        "m, b = 0.0, 0.0\n",
        "lr = 0.001\n",
        "epochs = 1_000\n",
        "\n",
        "for _ in range(epochs):\n",
        "  y_pred = m*x+ b\n",
        "  rmse = np.sqrt((1 / len(x)) * np.sum((y - y_pred) ** 2))\n",
        "\n",
        "  # desc gradients\n",
        "  m_grad = -(2 / len(x)) * np.sum(x * (y - y_pred))\n",
        "  b_grad = -(2 / len(x)) * np.sum(y - y_pred)\n",
        "\n",
        "  m -= lr * m_grad\n",
        "  b -= lr * b_grad\n",
        "\n",
        "plt.scatter(x, y, label='Données réelles')\n",
        "plt.plot(x, y_pred, color='red', label='Modèle lr 0.001')\n",
        "plt.xlabel('x')\n",
        "plt.ylabel('y')\n",
        "plt.legend()\n",
        "plt.show()"
      ],
      "metadata": {
        "colab": {
          "base_uri": "https://localhost:8080/",
          "height": 449
        },
        "id": "pW_i8pBr_3ns",
        "outputId": "81d39d98-3f41-4949-b3e1-99f047cf5b68"
      },
      "execution_count": null,
      "outputs": [
        {
          "output_type": "display_data",
          "data": {
            "text/plain": [
              "<Figure size 640x480 with 1 Axes>"
            ],
            "image/png": "[encoded data removed]"
          },
          "metadata": {}
        }
      ]
    },
    {
      "cell_type": "code",
      "source": [],
      "metadata": {
        "id": "CUO6qcKlAPDK"
      },
      "execution_count": null,
      "outputs": []
    }
  ]
}